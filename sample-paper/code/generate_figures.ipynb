{
 "cells": [
  {
   "cell_type": "markdown",
   "metadata": {},
   "source": [
    "# Generates the figures for the manuscript\n",
    "\n",
    "This notebook generates the figures used in the paper. **No results are calculated here**. We'll only load the results from files produced by other notebooks. All figures will be saved in EPS and PNG format to the `figures` folder."
   ]
  },
  {
   "cell_type": "markdown",
   "metadata": {},
   "source": [
    "## Load the required libraries"
   ]
  },
  {
   "cell_type": "code",
   "execution_count": 1,
   "metadata": {
    "collapsed": true
   },
   "outputs": [],
   "source": [
    "%matplotlib inline\n",
    "import os\n",
    "import numpy as np\n",
    "import matplotlib.pyplot as plt"
   ]
  },
  {
   "cell_type": "markdown",
   "metadata": {},
   "source": [
    "Configuration for matplotlib plots."
   ]
  },
  {
   "cell_type": "code",
   "execution_count": 2,
   "metadata": {
    "collapsed": true
   },
   "outputs": [],
   "source": [
    "config = dict(fontsize=7)\n",
    "plt.rcParams['font.size'] = config['fontsize']\n",
    "plt.rcParams['axes.labelsize'] = config['fontsize']\n",
    "plt.rcParams['xtick.labelsize'] = config['fontsize']\n",
    "plt.rcParams['ytick.labelsize'] = config['fontsize']\n",
    "plt.rcParams['legend.fontsize'] = config['fontsize']"
   ]
  },
  {
   "cell_type": "markdown",
   "metadata": {},
   "source": [
    "## Define utility functions"
   ]
  },
  {
   "cell_type": "code",
   "execution_count": 3,
   "metadata": {
    "collapsed": true
   },
   "outputs": [],
   "source": [
    "def savefig(fig, name):\n",
    "    \"\"\"\n",
    "    Save the figure to the 'figure' folder in EPS and PNG formats.\n",
    "    \n",
    "    Parameters\n",
    "    ----------\n",
    "    fig \n",
    "        The matplotlib figure object.\n",
    "    name : str\n",
    "        The name of the file without paths or file extensions.\n",
    "        For example, 'synthetic-result' instead of '../figures/synthetic-result.png'.\n",
    "        \n",
    "    \"\"\"\n",
    "    fname = os.path.join(os.pardir, 'figures', name)\n",
    "    fig.savefig(fname + '.eps')\n",
    "    fig.savefig(fname + '.png', dpi=200)"
   ]
  },
  {
   "cell_type": "markdown",
   "metadata": {},
   "source": [
    "## Generate figure bla\n",
    "\n",
    "Explain what this figure is about."
   ]
  },
  {
   "cell_type": "code",
   "execution_count": 4,
   "metadata": {},
   "outputs": [
    {
     "data": {
      "image/png": "[encoded data removed]",
      "text/plain": [
       "<matplotlib.figure.Figure at 0x7fb27fb702e8>"
      ]
     },
     "metadata": {},
     "output_type": "display_data"
    }
   ],
   "source": [
    "fig = plt.figure(figsize=(3.33, 2.5))\n",
    "plt.plot(np.linspace(0, 10)**2, '.k')\n",
    "plt.xlabel('x (m)')\n",
    "plt.ylabel('gravity anomaly (mGal)')\n",
    "plt.tight_layout()\n",
    "savefig(fig, 'summary')"
   ]
  },
  {
   "cell_type": "code",
   "execution_count": null,
   "metadata": {
    "collapsed": true
   },
   "outputs": [],
   "source": []
  }
 ],
 "metadata": {
  "kernelspec": {
   "display_name": "Python 3",
   "language": "python",
   "name": "python3"
  },
  "language_info": {
   "codemirror_mode": {
    "name": "ipython",
    "version": 3
   },
   "file_extension": ".py",
   "mimetype": "text/x-python",
   "name": "python",
   "nbconvert_exporter": "python",
   "pygments_lexer": "ipython3",
   "version": "3.6.1"
  }
 },
 "nbformat": 4,
 "nbformat_minor": 1
}
